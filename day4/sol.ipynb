{
 "cells": [
  {
   "cell_type": "code",
   "execution_count": 117,
   "id": "b50a7efa",
   "metadata": {},
   "outputs": [],
   "source": [
    "with open('input.txt','r') as input:\n",
    "    lines = input.read().strip().split('\\n')\n",
    "\n",
    "cards = list()\n",
    "for line in lines:\n",
    "    cards.append(dict())\n",
    "    win_nbrs = line[line.find(':')+1:line.find('|')].strip().split(' ')\n",
    "    while '' in win_nbrs:\n",
    "        win_nbrs.remove('')\n",
    "    nbrs = line[line.find('|')+1:].strip().split(' ')\n",
    "    while '' in nbrs:\n",
    "        nbrs.remove('')\n",
    "    win_nbrs = [int(win_nbr) for win_nbr in win_nbrs]\n",
    "    nbrs = [int(nbr) for nbr in nbrs]\n",
    "    cards[-1].update({'win_nbrs':win_nbrs})\n",
    "    cards[-1].update({'nbrs':nbrs})\n",
    "    \n",
    "# print(cards)"
   ]
  },
  {
   "cell_type": "code",
   "execution_count": 118,
   "id": "38a5239e",
   "metadata": {},
   "outputs": [
    {
     "name": "stdout",
     "output_type": "stream",
     "text": [
      "21138\n"
     ]
    }
   ],
   "source": [
    "wins = list()\n",
    "for card in cards:\n",
    "    s = -1\n",
    "    for nbr in card.get('nbrs'):\n",
    "        for win_nbr in card.get('win_nbrs'):\n",
    "            if int(nbr) == int(win_nbr):\n",
    "                s += 1\n",
    "    if s >= 0:\n",
    "        wins.append(2**s)\n",
    "print(sum(wins))"
   ]
  },
  {
   "cell_type": "code",
   "execution_count": 119,
   "id": "931c4812",
   "metadata": {},
   "outputs": [
    {
     "name": "stdout",
     "output_type": "stream",
     "text": [
      "7185540\n"
     ]
    }
   ],
   "source": [
    "card_wins = list()\n",
    "for card in cards:\n",
    "    s = 0\n",
    "    for nbr in card.get('nbrs'):\n",
    "        for win_nbr in card.get('win_nbrs'):\n",
    "            if int(nbr) == int(win_nbr):\n",
    "                s += 1\n",
    "    card_wins.append([s,1])\n",
    "# print(card_wins)\n",
    "\n",
    "for i in range(len(card_wins)):\n",
    "    k = 0\n",
    "    while k < card_wins[i][1]:\n",
    "        j = 1\n",
    "        while j <= card_wins[i][0] and (i+j)<len(card_wins):\n",
    "            card_wins[i+j][1] += 1 \n",
    "            j += 1\n",
    "        k += 1\n",
    "# print(card_wins)\n",
    "        \n",
    "s = 0\n",
    "for card in card_wins:\n",
    "    s += card[1]\n",
    "print(s)"
   ]
  }
 ],
 "metadata": {
  "kernelspec": {
   "display_name": "Python 3 (ipykernel)",
   "language": "python",
   "name": "python3"
  },
  "language_info": {
   "codemirror_mode": {
    "name": "ipython",
    "version": 3
   },
   "file_extension": ".py",
   "mimetype": "text/x-python",
   "name": "python",
   "nbconvert_exporter": "python",
   "pygments_lexer": "ipython3",
   "version": "3.10.9"
  }
 },
 "nbformat": 4,
 "nbformat_minor": 5
}
