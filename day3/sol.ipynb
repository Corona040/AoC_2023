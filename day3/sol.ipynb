{
 "cells": [
  {
   "cell_type": "code",
   "execution_count": 4,
   "id": "ebff42fe",
   "metadata": {},
   "outputs": [],
   "source": [
    "with open('input.txt','r') as input:\n",
    "    lines = input.read().strip().split('\\n')\n",
    "\n",
    "symbols = dict()\n",
    "numbers = dict()\n",
    "for i in range(len(lines)):\n",
    "    j = 0\n",
    "    while j < len(lines[i]):\n",
    "        if (lines[i][j] != '.' and not lines[i][j].isdigit()):\n",
    "            symbols.update({(i,j):lines[i][j]})\n",
    "        if lines[i][j].isdigit():\n",
    "            k = j\n",
    "            nbr = ''\n",
    "            while j < len(lines[i]) and lines[i][j].isdigit():\n",
    "                nbr += lines[i][j]\n",
    "                j += 1\n",
    "            numbers.update({(i,k,j-k):int(nbr)})\n",
    "        else:\n",
    "            j += 1\n",
    "# print(symbols)\n",
    "# print(numbers)\n",
    "\n",
    "numbers_area = dict()\n",
    "for nbr in numbers:\n",
    "    numbers_area.update({nbr:((nbr[0]-1,nbr[1]-1),(nbr[0]+1,nbr[1]+nbr[2]))})\n",
    "# print(numbers_area)"
   ]
  },
  {
   "cell_type": "code",
   "execution_count": 2,
   "id": "462eccc7",
   "metadata": {},
   "outputs": [
    {
     "name": "stdout",
     "output_type": "stream",
     "text": [
      "526404\n"
     ]
    }
   ],
   "source": [
    "s = 0\n",
    "for nbr in numbers:\n",
    "    nbr_area = numbers_area.get(nbr)\n",
    "    for symbol in symbols:\n",
    "        if nbr_area[0][0] <= symbol[0] <= nbr_area[1][0] and nbr_area[0][1] <= symbol[1] <= nbr_area[1][1]:\n",
    "            s += numbers.get(nbr)\n",
    "print(s)"
   ]
  },
  {
   "cell_type": "code",
   "execution_count": 13,
   "id": "8ae9f27e",
   "metadata": {},
   "outputs": [
    {
     "name": "stdout",
     "output_type": "stream",
     "text": [
      "84399773\n"
     ]
    }
   ],
   "source": [
    "s = 0\n",
    "for symbol in symbols:\n",
    "    if symbols.get(symbol) != '*':\n",
    "        continue\n",
    "    else:\n",
    "        nbrs = list()\n",
    "        found = 0\n",
    "        for nbr in numbers:\n",
    "            nbr_area = numbers_area.get(nbr)\n",
    "            if nbr_area[0][0] <= symbol[0] <= nbr_area[1][0] and nbr_area[0][1] <= symbol[1] <= nbr_area[1][1]:\n",
    "                nbrs.append(numbers.get(nbr))\n",
    "            if len(nbrs) == 2:\n",
    "                    found = 1\n",
    "                    s += nbrs[0]*nbrs[1]\n",
    "                    break\n",
    "        if found:\n",
    "            continue\n",
    "print(s)"
   ]
  }
 ],
 "metadata": {
  "kernelspec": {
   "display_name": "Python 3 (ipykernel)",
   "language": "python",
   "name": "python3"
  },
  "language_info": {
   "codemirror_mode": {
    "name": "ipython",
    "version": 3
   },
   "file_extension": ".py",
   "mimetype": "text/x-python",
   "name": "python",
   "nbconvert_exporter": "python",
   "pygments_lexer": "ipython3",
   "version": "3.10.9"
  }
 },
 "nbformat": 4,
 "nbformat_minor": 5
}
