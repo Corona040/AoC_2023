{
 "cells": [
  {
   "cell_type": "code",
   "execution_count": 4,
   "id": "c3ffb813",
   "metadata": {},
   "outputs": [],
   "source": [
    "lines = []\n",
    "with open('input.txt','r') as input:\n",
    "    lines = input.read().strip().replace('Game','').replace(' ','').replace('blue','b').replace('green','g').replace('red','r').split('\\n')\n",
    "\"\"\"\n",
    "organize data in a dictionary\n",
    "the first entry is the game, return an array of each round\n",
    "each round is also an array of dictionaries\n",
    "the second entry is the color (r,g,b), returns the numbers of dices of that color showed in that round\n",
    "\"\"\"\n",
    "games = dict()\n",
    "for line in lines:\n",
    "    games.update({int(line.split(':')[0]):[subset.split(',') for subset in line.split(':')[1].split(';')]})\n",
    "for game in games:\n",
    "    ddices = list()\n",
    "    for dices in games.get(game):\n",
    "        a = dict()\n",
    "        for dice in dices:\n",
    "            a.update({dice[-1]:int(dice[:-1])})\n",
    "        ddices.append(a)\n",
    "    games.update({game:ddices})\n",
    "# print(games)"
   ]
  },
  {
   "cell_type": "code",
   "execution_count": 8,
   "id": "bdd982a5",
   "metadata": {},
   "outputs": [
    {
     "name": "stdout",
     "output_type": "stream",
     "text": [
      "2416\n"
     ]
    }
   ],
   "source": [
    "limit = {'r':12,'g':13,'b':14}\n",
    "\"\"\"\n",
    "compare each round to the limits\n",
    "if a round shows more dices than the specified limit, the game of that round is considered impossible\n",
    "\"\"\"\n",
    "game_sum = 0\n",
    "for game in games:\n",
    "    possible = 1\n",
    "    for dices in games.get(game):\n",
    "        for color in dices:\n",
    "            if dices.get(color) > limit.get(color):\n",
    "                possible = 0\n",
    "                break\n",
    "        if not possible:\n",
    "            break\n",
    "    if possible:\n",
    "        game_sum += game\n",
    "print(game_sum)"
   ]
  },
  {
   "cell_type": "code",
   "execution_count": 368,
   "id": "93648048",
   "metadata": {},
   "outputs": [
    {
     "name": "stdout",
     "output_type": "stream",
     "text": [
      "63307\n"
     ]
    }
   ],
   "source": [
    "\"\"\"\n",
    "loop each round\n",
    "saves the biggest number of dices showed for that color in that round\n",
    "\"\"\"\n",
    "power_sum = 0\n",
    "for game in games:\n",
    "    dices_min = {'r':0,'g':0,'b':0}\n",
    "    for dices in games.get(game):\n",
    "        for color in dices:\n",
    "            if dices.get(color) > dices_min.get(color):\n",
    "                dices_min.update({color:dices.get(color)})\n",
    "    power = 1\n",
    "    for color in dices_min:\n",
    "        power *= dices_min.get(color)\n",
    "    power_sum += power\n",
    "print(power_sum)"
   ]
  }
 ],
 "metadata": {
  "kernelspec": {
   "display_name": "Python 3 (ipykernel)",
   "language": "python",
   "name": "python3"
  },
  "language_info": {
   "codemirror_mode": {
    "name": "ipython",
    "version": 3
   },
   "file_extension": ".py",
   "mimetype": "text/x-python",
   "name": "python",
   "nbconvert_exporter": "python",
   "pygments_lexer": "ipython3",
   "version": "3.10.9"
  }
 },
 "nbformat": 4,
 "nbformat_minor": 5
}
