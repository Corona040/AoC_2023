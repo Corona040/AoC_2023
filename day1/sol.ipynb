{
 "cells": [
  {
   "cell_type": "code",
   "execution_count": 1,
   "id": "1beff56f",
   "metadata": {},
   "outputs": [],
   "source": [
    "lines = []\n",
    "with open('input.txt','r') as input:\n",
    "    lines = input.read().strip().split('\\n')"
   ]
  },
  {
   "cell_type": "code",
   "execution_count": 2,
   "id": "bc494453",
   "metadata": {},
   "outputs": [
    {
     "name": "stdout",
     "output_type": "stream",
     "text": [
      "55090\n"
     ]
    }
   ],
   "source": [
    "s = 0\n",
    "for line in lines:\n",
    "    vals = []\n",
    "    for c in line:\n",
    "        if c.isdigit():\n",
    "            vals.append(c)\n",
    "    s += int(vals[0] + vals[-1])\n",
    "print(s)"
   ]
  },
  {
   "cell_type": "code",
   "execution_count": 3,
   "id": "d2fda49f",
   "metadata": {},
   "outputs": [
    {
     "name": "stdout",
     "output_type": "stream",
     "text": [
      "54845\n"
     ]
    }
   ],
   "source": [
    "ddigits = {'one':'1',\n",
    "           'two':'2',\n",
    "           'three':'3',\n",
    "           'four':'4',\n",
    "           'five':'5',\n",
    "           'six':'6',\n",
    "           'seven':'7',\n",
    "           'eight':'8',\n",
    "           'nine':'9'}\n",
    "\n",
    "s = 0\n",
    "for line in lines:\n",
    "    vals = []\n",
    "    start = 0\n",
    "    for c in range(len(line)):\n",
    "        for d in ddigits:\n",
    "            if line.find(d,start,c+1) != -1:\n",
    "                start = c\n",
    "                vals.append(ddigits.get(d))\n",
    "        if line[c].isdigit():\n",
    "            start = c\n",
    "            vals.append(line[c])\n",
    "    s += int(vals[0] + vals[-1])\n",
    "print(s)"
   ]
  }
 ],
 "metadata": {
  "kernelspec": {
   "display_name": "Python 3 (ipykernel)",
   "language": "python",
   "name": "python3"
  },
  "language_info": {
   "codemirror_mode": {
    "name": "ipython",
    "version": 3
   },
   "file_extension": ".py",
   "mimetype": "text/x-python",
   "name": "python",
   "nbconvert_exporter": "python",
   "pygments_lexer": "ipython3",
   "version": "3.10.9"
  }
 },
 "nbformat": 4,
 "nbformat_minor": 5
}
